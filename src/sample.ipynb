{
 "cells": [
  {
   "attachments": {},
   "cell_type": "markdown",
   "metadata": {},
   "source": [
    "## Gdal コマンドライン操作一覧"
   ]
  },
  {
   "cell_type": "code",
   "execution_count": 4,
   "metadata": {},
   "outputs": [
    {
     "name": "stdout",
     "output_type": "stream",
     "text": [
      "/workspace\n"
     ]
    }
   ],
   "source": [
    "# Docker 内の移動\n",
    "%cd /workspace"
   ]
  },
  {
   "attachments": {},
   "cell_type": "markdown",
   "metadata": {},
   "source": [
    "### GdalInfo\n"
   ]
  },
  {
   "cell_type": "code",
   "execution_count": null,
   "metadata": {},
   "outputs": [],
   "source": [
    "!gdalinfo 詳細が知りたいファイル名"
   ]
  },
  {
   "cell_type": "code",
   "execution_count": 31,
   "metadata": {},
   "outputs": [
    {
     "name": "stdout",
     "output_type": "stream",
     "text": [
      "Driver: GTiff/GeoTIFF\n",
      "Files: sample/sorabatake_geocode_image.tif\n",
      "Size is 353, 173\n",
      "Coordinate System is:\n",
      "PROJCRS[\"WGS 84 / Pseudo-Mercator\",\n",
      "    BASEGEOGCRS[\"WGS 84\",\n",
      "        DATUM[\"World Geodetic System 1984\",\n",
      "            ELLIPSOID[\"WGS 84\",6378137,298.257223563,\n",
      "                LENGTHUNIT[\"metre\",1]]],\n",
      "        PRIMEM[\"Greenwich\",0,\n",
      "            ANGLEUNIT[\"degree\",0.0174532925199433]],\n",
      "        ID[\"EPSG\",4326]],\n",
      "    CONVERSION[\"Popular Visualisation Pseudo-Mercator\",\n",
      "        METHOD[\"Popular Visualisation Pseudo Mercator\",\n",
      "            ID[\"EPSG\",1024]],\n",
      "        PARAMETER[\"Latitude of natural origin\",0,\n",
      "            ANGLEUNIT[\"degree\",0.0174532925199433],\n",
      "            ID[\"EPSG\",8801]],\n",
      "        PARAMETER[\"Longitude of natural origin\",0,\n",
      "            ANGLEUNIT[\"degree\",0.0174532925199433],\n",
      "            ID[\"EPSG\",8802]],\n",
      "        PARAMETER[\"False easting\",0,\n",
      "            LENGTHUNIT[\"metre\",1],\n",
      "            ID[\"EPSG\",8806]],\n",
      "        PARAMETER[\"False northing\",0,\n",
      "            LENGTHUNIT[\"metre\",1],\n",
      "            ID[\"EPSG\",8807]]],\n",
      "    CS[Cartesian,2],\n",
      "        AXIS[\"easting (X)\",east,\n",
      "            ORDER[1],\n",
      "            LENGTHUNIT[\"metre\",1]],\n",
      "        AXIS[\"northing (Y)\",north,\n",
      "            ORDER[2],\n",
      "            LENGTHUNIT[\"metre\",1]],\n",
      "    USAGE[\n",
      "        SCOPE[\"unknown\"],\n",
      "        AREA[\"World - 85°S to 85°N\"],\n",
      "        BBOX[-85.06,-180,85.06,180]],\n",
      "    ID[\"EPSG\",3857]]\n",
      "Data axis to CRS axis mapping: 1,2\n",
      "Origin = (15556490.661657888442278,4257688.364789782091975)\n",
      "Pixel Size = (7.399196882220372,-7.399196882220372)\n",
      "Metadata:\n",
      "  AREA_OR_POINT=Area\n",
      "Image Structure Metadata:\n",
      "  INTERLEAVE=BAND\n",
      "Corner Coordinates:\n",
      "Upper Left  (15556490.662, 4257688.365) (139d44'46.80\"E, 35d41'14.52\"N)\n",
      "Lower Left  (15556490.662, 4256408.304) (139d44'46.80\"E, 35d40'40.90\"N)\n",
      "Upper Right (15559102.578, 4257688.365) (139d46'11.27\"E, 35d41'14.52\"N)\n",
      "Lower Right (15559102.578, 4256408.304) (139d46'11.27\"E, 35d40'40.90\"N)\n",
      "Center      (15557796.620, 4257048.334) (139d45'29.03\"E, 35d40'57.71\"N)\n",
      "Band 1 Block=353x23 Type=Byte, ColorInterp=Palette\n",
      "  NoData Value=251\n",
      "  Color Table (RGB with 256 entries)\n",
      "    0: 36,19,97,255\n",
      "    1: 30,42,113,255\n",
      "    2: 32,35,107,255\n",
      "    3: 35,23,99,255\n",
      "    4: 36,18,96,255\n",
      "    5: 0,183,205,255\n",
      "    6: 0,185,206,255\n",
      "    7: 0,182,204,255\n",
      "    8: 0,182,204,255\n",
      "    9: 0,167,194,255\n",
      "   10: 0,167,194,255\n",
      "   11: 0,167,194,255\n",
      "   12: 0,165,193,255\n",
      "   13: 32,35,108,255\n",
      "   14: 33,30,104,255\n",
      "   15: 0,167,194,255\n",
      "   16: 0,167,194,255\n",
      "   17: 0,167,194,255\n",
      "   18: 0,164,192,255\n",
      "   19: 0,167,194,255\n",
      "   20: 36,19,97,255\n",
      "   21: 0,195,212,255\n",
      "   22: 0,168,195,255\n",
      "   23: 0,169,196,255\n",
      "   24: 0,180,203,255\n",
      "   25: 0,167,194,255\n",
      "   26: 0,167,194,255\n",
      "   27: 0,167,194,255\n",
      "   28: 0,167,194,255\n",
      "   29: 0,167,194,255\n",
      "   30: 0,167,194,255\n",
      "   31: 0,167,194,255\n",
      "   32: 0,167,194,255\n",
      "   33: 0,167,194,255\n",
      "   34: 0,167,194,255\n",
      "   35: 0,167,194,255\n",
      "   36: 0,167,194,255\n",
      "   37: 0,167,194,255\n",
      "   38: 0,167,194,255\n",
      "   39: 31,40,111,255\n",
      "   40: 0,168,195,255\n",
      "   41: 0,167,194,255\n",
      "   42: 0,167,194,255\n",
      "   43: 0,167,194,255\n",
      "   44: 0,167,194,255\n",
      "   45: 0,167,194,255\n",
      "   46: 31,40,111,255\n",
      "   47: 0,167,194,255\n",
      "   48: 0,167,194,255\n",
      "   49: 0,167,194,255\n",
      "   50: 0,167,194,255\n",
      "   51: 0,167,194,255\n",
      "   52: 0,167,194,255\n",
      "   53: 0,167,194,255\n",
      "   54: 0,167,194,255\n",
      "   55: 0,167,194,255\n",
      "   56: 0,167,194,255\n",
      "   57: 0,166,194,255\n",
      "   58: 31,40,111,255\n",
      "   59: 0,167,194,255\n",
      "   60: 31,40,111,255\n",
      "   61: 0,167,194,255\n",
      "   62: 0,167,194,255\n",
      "   63: 0,167,194,255\n",
      "   64: 0,167,194,255\n",
      "   65: 0,167,194,255\n",
      "   66: 0,167,194,255\n",
      "   67: 31,40,111,255\n",
      "   68: 0,168,195,255\n",
      "   69: 0,168,195,255\n",
      "   70: 0,167,194,255\n",
      "   71: 0,167,194,255\n",
      "   72: 0,167,194,255\n",
      "   73: 0,167,194,255\n",
      "   74: 31,40,111,255\n",
      "   75: 31,40,111,255\n",
      "   76: 31,40,111,255\n",
      "   77: 31,40,111,255\n",
      "   78: 31,40,111,255\n",
      "   79: 0,172,198,255\n",
      "   80: 31,40,111,255\n",
      "   81: 31,40,111,255\n",
      "   82: 31,40,111,255\n",
      "   83: 0,167,194,255\n",
      "   84: 31,40,111,255\n",
      "   85: 31,40,111,255\n",
      "   86: 31,40,111,255\n",
      "   87: 31,40,111,255\n",
      "   88: 31,40,111,255\n",
      "   89: 31,40,111,255\n",
      "   90: 31,40,111,255\n",
      "   91: 31,40,111,255\n",
      "   92: 31,40,111,255\n",
      "   93: 31,40,111,255\n",
      "   94: 31,40,111,255\n",
      "   95: 0,167,194,255\n",
      "   96: 31,40,111,255\n",
      "   97: 31,40,111,255\n",
      "   98: 31,40,111,255\n",
      "   99: 31,40,111,255\n",
      "  100: 31,40,111,255\n",
      "  101: 31,40,111,255\n",
      "  102: 31,40,111,255\n",
      "  103: 31,40,111,255\n",
      "  104: 31,40,111,255\n",
      "  105: 31,40,111,255\n",
      "  106: 31,40,111,255\n",
      "  107: 31,40,111,255\n",
      "  108: 31,40,111,255\n",
      "  109: 31,40,111,255\n",
      "  110: 31,40,111,255\n",
      "  111: 31,40,111,255\n",
      "  112: 31,40,111,255\n",
      "  113: 31,40,111,255\n",
      "  114: 31,40,111,255\n",
      "  115: 31,40,111,255\n",
      "  116: 31,40,111,255\n",
      "  117: 31,40,111,255\n",
      "  118: 31,40,111,255\n",
      "  119: 31,40,111,255\n",
      "  120: 31,40,111,255\n",
      "  121: 31,40,111,255\n",
      "  122: 31,40,111,255\n",
      "  123: 31,40,111,255\n",
      "  124: 31,40,111,255\n",
      "  125: 31,40,111,255\n",
      "  126: 31,40,111,255\n",
      "  127: 31,40,111,255\n",
      "  128: 31,40,111,255\n",
      "  129: 31,40,111,255\n",
      "  130: 31,40,111,255\n",
      "  131: 31,40,111,255\n",
      "  132: 31,40,111,255\n",
      "  133: 31,40,111,255\n",
      "  134: 31,40,111,255\n",
      "  135: 31,40,111,255\n",
      "  136: 31,40,111,255\n",
      "  137: 31,40,111,255\n",
      "  138: 31,40,111,255\n",
      "  139: 31,40,111,255\n",
      "  140: 31,40,111,255\n",
      "  141: 31,40,111,255\n",
      "  142: 31,40,111,255\n",
      "  143: 31,40,111,255\n",
      "  144: 31,40,111,255\n",
      "  145: 31,40,111,255\n",
      "  146: 31,40,111,255\n",
      "  147: 31,40,111,255\n",
      "  148: 31,40,111,255\n",
      "  149: 31,40,111,255\n",
      "  150: 31,40,111,255\n",
      "  151: 31,40,111,255\n",
      "  152: 31,40,111,255\n",
      "  153: 31,40,111,255\n",
      "  154: 31,40,111,255\n",
      "  155: 31,40,111,255\n",
      "  156: 31,40,111,255\n",
      "  157: 31,40,111,255\n",
      "  158: 31,40,111,255\n",
      "  159: 31,40,111,255\n",
      "  160: 31,40,111,255\n",
      "  161: 31,40,111,255\n",
      "  162: 31,40,111,255\n",
      "  163: 31,40,111,255\n",
      "  164: 31,40,111,255\n",
      "  165: 31,40,111,255\n",
      "  166: 31,40,111,255\n",
      "  167: 31,40,111,255\n",
      "  168: 31,40,111,255\n",
      "  169: 31,40,111,255\n",
      "  170: 31,40,111,255\n",
      "  171: 31,40,111,255\n",
      "  172: 31,40,111,255\n",
      "  173: 31,40,111,255\n",
      "  174: 31,40,111,255\n",
      "  175: 31,39,111,255\n",
      "  176: 31,40,111,255\n",
      "  177: 31,40,111,255\n",
      "  178: 31,40,111,255\n",
      "  179: 31,40,111,255\n",
      "  180: 31,40,111,255\n",
      "  181: 31,39,111,255\n",
      "  182: 31,40,111,255\n",
      "  183: 31,40,111,255\n",
      "  184: 31,40,111,255\n",
      "  185: 31,40,111,255\n",
      "  186: 31,40,111,255\n",
      "  187: 31,39,111,255\n",
      "  188: 31,40,111,255\n",
      "  189: 31,40,111,255\n",
      "  190: 31,40,111,255\n",
      "  191: 31,40,111,255\n",
      "  192: 31,40,111,255\n",
      "  193: 31,40,111,255\n",
      "  194: 31,40,111,255\n",
      "  195: 31,40,111,255\n",
      "  196: 31,40,111,255\n",
      "  197: 31,40,111,255\n",
      "  198: 31,40,111,255\n",
      "  199: 31,40,111,255\n",
      "  200: 31,40,111,255\n",
      "  201: 31,40,111,255\n",
      "  202: 31,40,111,255\n",
      "  203: 31,40,111,255\n",
      "  204: 31,40,111,255\n",
      "  205: 31,40,111,255\n",
      "  206: 31,40,111,255\n",
      "  207: 31,40,111,255\n",
      "  208: 31,40,111,255\n",
      "  209: 31,40,111,255\n",
      "  210: 31,40,111,255\n",
      "  211: 31,40,111,255\n",
      "  212: 31,40,111,255\n",
      "  213: 31,40,111,255\n",
      "  214: 31,39,111,255\n",
      "  215: 31,40,111,255\n",
      "  216: 31,40,111,255\n",
      "  217: 31,40,111,255\n",
      "  218: 31,40,111,255\n",
      "  219: 31,40,111,255\n",
      "  220: 31,40,111,255\n",
      "  221: 31,40,111,255\n",
      "  222: 31,40,111,255\n",
      "  223: 31,39,111,255\n",
      "  224: 31,40,111,255\n",
      "  225: 31,40,111,255\n",
      "  226: 31,40,111,255\n",
      "  227: 31,40,111,255\n",
      "  228: 31,40,111,255\n",
      "  229: 31,40,111,255\n",
      "  230: 31,40,111,255\n",
      "  231: 31,40,111,255\n",
      "  232: 31,40,111,255\n",
      "  233: 31,40,111,255\n",
      "  234: 31,40,111,255\n",
      "  235: 31,40,111,255\n",
      "  236: 31,40,111,255\n",
      "  237: 31,40,111,255\n",
      "  238: 31,40,111,255\n",
      "  239: 31,40,111,255\n",
      "  240: 31,40,111,255\n",
      "  241: 31,40,111,255\n",
      "  242: 31,40,111,255\n",
      "  243: 31,40,111,255\n",
      "  244: 31,40,111,255\n",
      "  245: 31,40,111,255\n",
      "  246: 31,40,111,255\n",
      "  247: 31,40,111,255\n",
      "  248: 31,40,111,255\n",
      "  249: 31,40,111,255\n",
      "  250: 28,48,117,255\n",
      "  251: 0,0,0,0\n",
      "  252: 31,42,112,255\n",
      "  253: 0,169,195,255\n",
      "  254: 0,167,194,255\n",
      "  255: 31,40,111,255\n"
     ]
    }
   ],
   "source": [
    "# 使用例①\n",
    "!gdalinfo sample/sorabatake_geocode_image.tif \n"
   ]
  },
  {
   "cell_type": "code",
   "execution_count": 33,
   "metadata": {},
   "outputs": [],
   "source": [
    "# 使用例②\n",
    "!gdalinfo -json sample/sorabatake_geocode_image.tif > output/sorabatake_geocode_image.json"
   ]
  },
  {
   "attachments": {},
   "cell_type": "markdown",
   "metadata": {},
   "source": [
    "### Gdalwarp"
   ]
  },
  {
   "cell_type": "code",
   "execution_count": null,
   "metadata": {},
   "outputs": [],
   "source": [
    "!gdalwarp -te 欲しい画像の座標 -t_srs 元の座標系 -te_srs 出力座標系 入力ファイル 出力ファイル"
   ]
  },
  {
   "cell_type": "code",
   "execution_count": 6,
   "metadata": {},
   "outputs": [
    {
     "name": "stdout",
     "output_type": "stream",
     "text": [
      "Copying color table from sample/sorabatake_geocode_image.tif to new file.\n",
      "Creating output file that is 152P x 133L.\n",
      "Processing sample/sorabatake_geocode_image.tif [1/1] : 0Using internal nodata values (e.g. 251) for image sample/sorabatake_geocode_image.tif.\n",
      "Copying nodata values from source sample/sorabatake_geocode_image.tif to destination output/sorabatake_cut.tif.\n",
      "...10...20...30...40...50...60...70...80...90...100 - done.\n"
     ]
    }
   ],
   "source": [
    "# 使用例①\n",
    "!gdalwarp -te 139.746543 35.677909 139.756337 35.686451 -t_srs EPSG:4326 -te_srs EPSG:4326 sample/sorabatake_geocode_image.tif output/sorabatake_cut.tif"
   ]
  },
  {
   "cell_type": "code",
   "execution_count": 12,
   "metadata": {},
   "outputs": [
    {
     "name": "stdout",
     "output_type": "stream",
     "text": [
      "Warning 1: -te_srs ignored since -te is not specified.\n",
      "Copying color table from sample/sorabatake_geocode_image.tif to new file.\n",
      "Creating output file that is 365P x 145L.\n",
      "Processing sample/sorabatake_geocode_image.tif [1/1] : 0Using internal nodata values (e.g. 251) for image sample/sorabatake_geocode_image.tif.\n",
      "Copying nodata values from source sample/sorabatake_geocode_image.tif to destination output/sorabatake_EPSG4329.tif.\n",
      "...10...20...30...40...50...60...70...80...90...100 - done.\n"
     ]
    }
   ],
   "source": [
    "# 使用例②\n",
    "!gdalwarp -t_srs EPSG:4329 -te_srs EPSG:4326 sample/sorabatake_geocode_image.tif output/sorabatake_EPSG4329.tif"
   ]
  },
  {
   "cell_type": "code",
   "execution_count": 16,
   "metadata": {},
   "outputs": [
    {
     "name": "stdout",
     "output_type": "stream",
     "text": [
      "Warning 1: -te_srs ignored since -te is not specified.\n",
      "Copying color table from sample/sorabatake_geocode_image.tif to new file.\n",
      "Creating output file that is 365P x 145L.\n",
      "Processing sample/sorabatake_geocode_image.tif [1/1] : 0Copying nodata values from source sample/sorabatake_geocode_image.tif to destination output/sorabatake_nan0.tif.\n",
      "...10...20...30...40...50...60...70...80...90...100 - done.\n"
     ]
    }
   ],
   "source": [
    "# 使用例③\n",
    "!gdalwarp -t_srs EPSG:4326 -te_srs EPSG:4326 -srcnodata 0 sample/sorabatake_geocode_image.tif output/sorabatake_nan0.tif"
   ]
  },
  {
   "attachments": {},
   "cell_type": "markdown",
   "metadata": {},
   "source": [
    "### Gdal Polygonize"
   ]
  },
  {
   "cell_type": "code",
   "execution_count": null,
   "metadata": {},
   "outputs": [],
   "source": [
    "!gdal_polygonize.py -f 出力形式 -nomask マスクも出力するか 入力ファイル 出力ファイル"
   ]
  },
  {
   "cell_type": "code",
   "execution_count": 37,
   "metadata": {},
   "outputs": [
    {
     "name": "stdout",
     "output_type": "stream",
     "text": [
      "Creating output output/sorabatake_polygon.geojson of format GeoJson.\n",
      "0...10...20...30...40...50...60...70...80...90...100 - done.\n"
     ]
    }
   ],
   "source": [
    "# 使用例①\n",
    "!gdal_polygonize.py -f GeoJson sample/sorabatake_geocode_image.tif output/sorabatake_polygon.geojson"
   ]
  },
  {
   "cell_type": "code",
   "execution_count": 38,
   "metadata": {},
   "outputs": [
    {
     "name": "stdout",
     "output_type": "stream",
     "text": [
      "Creating output output/sorabatake_polygon_nomask.geojson of format GeoJson.\n",
      "0...10...20...30...40...50...60...70...80...90...100 - done.\n"
     ]
    }
   ],
   "source": [
    "# 使用例②\n",
    "!gdal_polygonize.py -f GeoJson -nomask sample/sorabatake_geocode_image.tif output/sorabatake_polygon_nomask.geojson"
   ]
  },
  {
   "attachments": {},
   "cell_type": "markdown",
   "metadata": {},
   "source": [
    "### Gdal Rasterize"
   ]
  },
  {
   "cell_type": "code",
   "execution_count": null,
   "metadata": {},
   "outputs": [],
   "source": [
    "!gdal_rasterize -burn 画像に代入する値 -te 四隅の座標 -a_srs 出力座標系 -ot 型 -ts 解像度 -a_nodata 欠損値の値 入力ファイル 出力ファイル"
   ]
  },
  {
   "cell_type": "code",
   "execution_count": 64,
   "metadata": {},
   "outputs": [
    {
     "name": "stdout",
     "output_type": "stream",
     "text": [
      "0...10...20...30...40...50...60...70...80...90...100 - done.\n"
     ]
    }
   ],
   "source": [
    "# 使用例①\n",
    "!gdal_rasterize -burn 255 -burn 255 -burn 255 -a_srs EPSG:3857 -ot Byte -a_nodata 0 \\\n",
    "    -ts 256 128 output/sorabatake_polygon.geojson output/sorabatake_rasterize.tif"
   ]
  },
  {
   "cell_type": "code",
   "execution_count": 67,
   "metadata": {},
   "outputs": [
    {
     "name": "stdout",
     "output_type": "stream",
     "text": [
      "0...10...20...30...40...50...60...70...80...90...100 - done.\n"
     ]
    }
   ],
   "source": [
    "# 使用例②\n",
    "!gdal_rasterize -burn 1  -a_srs EPSG:3857 -ot Float32 -a_nodata 0 \\\n",
    "    -ts 256 256 output/sorabatake_polygon.geojson output/sorabatake_rasterize_fp32.tif"
   ]
  },
  {
   "attachments": {},
   "cell_type": "markdown",
   "metadata": {},
   "source": [
    "### Gdal Tranasrate"
   ]
  },
  {
   "cell_type": "code",
   "execution_count": null,
   "metadata": {},
   "outputs": [],
   "source": [
    "!gdal_translate -of 出力形式 -a_srs 出力座標系 -ot 型 -tr 解像度 入力ファイル 出力ファイル"
   ]
  },
  {
   "cell_type": "code",
   "execution_count": 71,
   "metadata": {},
   "outputs": [
    {
     "name": "stdout",
     "output_type": "stream",
     "text": [
      "Input file size is 353, 173\n",
      "Warning 1: Unable to export color table to GeoTIFF file.  Color tables can only be written to 1 band or 2 bands Byte or UInt16 GeoTIFF files.\n",
      "0...10...20...30...40...50...60...70...80...90...100 - done.\n"
     ]
    }
   ],
   "source": [
    "# 使用例①\n",
    "!gdal_translate -of GTiff -ot Float32 sample/sorabatake_geocode_image.tif output/sorabatake_fp32.tif"
   ]
  },
  {
   "cell_type": "code",
   "execution_count": 70,
   "metadata": {},
   "outputs": [
    {
     "name": "stdout",
     "output_type": "stream",
     "text": [
      "Input file size is 353, 173\n",
      "0...10...20...30...40...50...60...70...80...90...100 - done.\n"
     ]
    }
   ],
   "source": [
    "# 使用例②\n",
    "!gdal_translate -tr 64 64  sample/sorabatake_geocode_image.tif output/sorabatake_resolution64.tif"
   ]
  },
  {
   "attachments": {},
   "cell_type": "markdown",
   "metadata": {},
   "source": [
    ",\n",
    ","
   ]
  }
 ],
 "metadata": {
  "kernelspec": {
   "display_name": "Python 3 (ipykernel)",
   "language": "python",
   "name": "python3"
  },
  "language_info": {
   "codemirror_mode": {
    "name": "ipython",
    "version": 3
   },
   "file_extension": ".py",
   "mimetype": "text/x-python",
   "name": "python",
   "nbconvert_exporter": "python",
   "pygments_lexer": "ipython3",
   "version": "3.8.10"
  },
  "orig_nbformat": 4
 },
 "nbformat": 4,
 "nbformat_minor": 2
}
